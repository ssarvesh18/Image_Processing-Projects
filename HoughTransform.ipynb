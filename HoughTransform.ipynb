{
 "cells": [
  {
   "cell_type": "code",
   "execution_count": 2,
   "metadata": {},
   "outputs": [],
   "source": [
    "import numpy as np\n",
    "import cv2"
   ]
  },
  {
   "cell_type": "code",
   "execution_count": null,
   "metadata": {},
   "outputs": [],
   "source": [
    "lines=cv2.imread(\"F:\\\\ImageProcessing\\\\lines,png\")\n",
    "greylines=cv2.cvtColor(lines,cv2.COLOR_BRG2GRAY)\n",
    "canny=cv2.Canny(greylines,75,75)\n",
    "# cv2.HoughLinesP()\n",
    "cv.imshow(\"canny\",canny)\n",
    "cv2.waitKey(0)\n",
    "cv2."
   ]
  }
 ],
 "metadata": {
  "kernelspec": {
   "display_name": "Python 3",
   "language": "python",
   "name": "python3"
  },
  "language_info": {
   "codemirror_mode": {
    "name": "ipython",
    "version": 3
   },
   "file_extension": ".py",
   "mimetype": "text/x-python",
   "name": "python",
   "nbconvert_exporter": "python",
   "pygments_lexer": "ipython3",
   "version": "3.6.4"
  }
 },
 "nbformat": 4,
 "nbformat_minor": 2
}

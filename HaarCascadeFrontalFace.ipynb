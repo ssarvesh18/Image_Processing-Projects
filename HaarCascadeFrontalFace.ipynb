{
 "cells": [
  {
   "cell_type": "code",
   "execution_count": 1,
   "metadata": {},
   "outputs": [],
   "source": [
    "import numpy as np\n",
    "import cv2"
   ]
  },
  {
   "cell_type": "code",
   "execution_count": 2,
   "metadata": {},
   "outputs": [],
   "source": [
    "face=cv2.CascadeClassifier('F:\\\\ImageProcessing\\\\frontalFace10\\\\haarcascade_frontalface_default.xml')\n",
    "lefteye=cv2.CascadeClassifier('F:\\\\ImageProcessing\\\\frontalFace10\\\\lefteye.xml')\n",
    "righteye=cv2.CascadeClassifier('F:\\\\ImageProcessing\\\\frontalFace10\\\\righteye.xml')"
   ]
  },
  {
   "cell_type": "code",
   "execution_count": 3,
   "metadata": {},
   "outputs": [],
   "source": [
    "cap=cv2.VideoCapture(0)\n",
    "while(True):\n",
    "    ret,frame=cap.read()\n",
    "    gray = cv2.cvtColor(frame,cv2.COLOR_BGR2GRAY)\n",
    "    faces=face.detectMultiScale(gray,1.3,5)\n",
    "    for (x,y,w,h) in faces:\n",
    "        cv2.rectangle(frame,(x,y),(x+w,y+h),(255,0,0),2)\n",
    "        roi_gray=gray[x:x+w,y:y+h]\n",
    "        roi_color=frame[x:x+w,y:y+h]\n",
    "        leye=lefteye.detectMultiScale(roi_gray,1.3,5)\n",
    "        reye=righteye.detectMultiScale(roi_gray,1.3,5)\n",
    "        for (lex,ley,lew,leh) in leye:\n",
    "            cv2.rectangle(roi_color,(lex,ley),(lex+lew,ley+leh),(255,0,255),2)\n",
    "        for (rex,rey,rew,reh) in reye:\n",
    "            cv2.rectangle(roi_color,(rex,rey),(rex+rew,rey+reh),(255,255,0),2)\n",
    "    cv2.imshow('webcam',frame)\n",
    "    if cv2.waitKey(1)==27:\n",
    "        break\n",
    "cv2.destroyAllWindows()\n",
    "cap.release()"
   ]
  },
  {
   "cell_type": "code",
   "execution_count": null,
   "metadata": {},
   "outputs": [],
   "source": []
  },
  {
   "cell_type": "code",
   "execution_count": null,
   "metadata": {},
   "outputs": [],
   "source": []
  }
 ],
 "metadata": {
  "kernelspec": {
   "display_name": "Python 3",
   "language": "python",
   "name": "python3"
  },
  "language_info": {
   "codemirror_mode": {
    "name": "ipython",
    "version": 3
   },
   "file_extension": ".py",
   "mimetype": "text/x-python",
   "name": "python",
   "nbconvert_exporter": "python",
   "pygments_lexer": "ipython3",
   "version": "3.7.3"
  }
 },
 "nbformat": 4,
 "nbformat_minor": 2
}

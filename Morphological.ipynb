{
 "cells": [
  {
   "cell_type": "code",
   "execution_count": 4,
   "metadata": {},
   "outputs": [],
   "source": [
    "import numpy as np"
   ]
  },
  {
   "cell_type": "code",
   "execution_count": 9,
   "metadata": {},
   "outputs": [],
   "source": [
    "import cv2"
   ]
  },
  {
   "cell_type": "code",
   "execution_count": 19,
   "metadata": {},
   "outputs": [],
   "source": [
    "def no(a):\n",
    "    pass\n",
    "cam=cv2.VideoCapture(0)\n",
    "cv2.namedWindow(\"trackbars\")\n",
    "cv2.namedWindow(\"webcam\")\n",
    "cv2.createTrackbar('h','trackbars',0,255,no)\n",
    "cv2.createTrackbar('s','trackbars',0,255,no)\n",
    "cv2.createTrackbar('v','trackbars',0,255,no)\n",
    "cv2.createTrackbar('hl','trackbars',0,255,no)\n",
    "cv2.createTrackbar('sl','trackbars',0,255,no)\n",
    "cv2.createTrackbar('vl','trackbars',0,255,no)\n",
    "while(cam.isOpened()):\n",
    "    ret,frame=cam.read()\n",
    "    show=cv2.cvtColor(frame,cv2.COLOR_BGR2HSV)\n",
    "    v=cv2.getTrackbarPos('v','trackbars')\n",
    "    h=cv2.getTrackbarPos('h','trackbars')\n",
    "    s=cv2.getTrackbarPos('s','trackbars')\n",
    "    vl=cv2.getTrackbarPos('vl','trackbars')\n",
    "    hl=cv2.getTrackbarPos('hl','trackbars')\n",
    "    sl=cv2.getTrackbarPos('sl','trackbars')\n",
    "    lower=np.array([hl,sl,vl])\n",
    "    upper=np.array([h,s,v])\n",
    "    # MORPHOLOGICAL PART\n",
    "    m=cv2.inRange(show,lower,upper)\n",
    "    kernel=np.ones([3,3])\n",
    "    dilation=cv2.dilate(m,kernel) # dilation perform (fills holes smaller than the kernel )\n",
    "    erode=cv2.erode(m,kernel,iterations=3) # erode perform (removes the less intense ones.)\n",
    "    opening = cv2.morphologyEx(m, cv2.MORPH_OPEN, kernel, iterations=2) #applies erosion then dilation\n",
    "    closing = cv2.morphologyEx(m, cv2.MORPH_CLOSE, kernel,iterations=2) #applies dilation then erosion\n",
    "    img=cv2.bitwise_and(show,show,mask=m)\n",
    "    cv2.imshow(\"dilation\",dilation) \n",
    "    cv2.imshow(\"erode\",erode)\n",
    "    cv2.imshow(\"Opening\", opening)\n",
    "    cv2.imshow(\"Closing\", closing)\n",
    "    cv2.imshow(\"webcam\",m)\n",
    "    if cv2.waitKey(1)==27:\n",
    "        break\n",
    "cv2.destroyAllWindows()\n",
    "cam.release()"
   ]
  },
  {
   "cell_type": "code",
   "execution_count": null,
   "metadata": {},
   "outputs": [],
   "source": []
  }
 ],
 "metadata": {
  "kernelspec": {
   "display_name": "Python 3",
   "language": "python",
   "name": "python3"
  },
  "language_info": {
   "codemirror_mode": {
    "name": "ipython",
    "version": 3
   },
   "file_extension": ".py",
   "mimetype": "text/x-python",
   "name": "python",
   "nbconvert_exporter": "python",
   "pygments_lexer": "ipython3",
   "version": "3.6.4"
  }
 },
 "nbformat": 4,
 "nbformat_minor": 2
}

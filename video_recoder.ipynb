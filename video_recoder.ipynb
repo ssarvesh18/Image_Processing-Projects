{
 "cells": [
  {
   "cell_type": "code",
   "execution_count": 11,
   "metadata": {},
   "outputs": [],
   "source": [
    "import cv2\n",
    "import numpy as np"
   ]
  },
  {
   "cell_type": "code",
   "execution_count": 6,
   "metadata": {},
   "outputs": [],
   "source": [
    "cam=cv2.VideoCapture(0)\n",
    "if cam.isOpened():\n",
    "    ret,frame=cam.read()\n",
    "else:\n",
    "    False\n",
    "while ret:\n",
    "    ret, frame =cam.read()\n",
    "    frame=cv2.cvtColor(frame,cv2.COLOR_RGB2GRAY)\n",
    "    cv2.imshow('video',frame)\n",
    "    fourcc = cv2.VideoWriter_fourcc('X','V','I','D')\n",
    "    output_video = cv2.VideoWriter('F:\\ImageProcessing\\Outputs\\p.avi', fourcc, 16,(1280,720))\n",
    "    if cv2.waitKey(1)==27:\n",
    "        break\n",
    "cam.release()\n",
    "cv2.destroyAllWindows()"
   ]
  }
 ],
 "metadata": {
  "kernelspec": {
   "display_name": "Python 3",
   "language": "python",
   "name": "python3"
  },
  "language_info": {
   "codemirror_mode": {
    "name": "ipython",
    "version": 3
   },
   "file_extension": ".py",
   "mimetype": "text/x-python",
   "name": "python",
   "nbconvert_exporter": "python",
   "pygments_lexer": "ipython3",
   "version": "3.7.3"
  }
 },
 "nbformat": 4,
 "nbformat_minor": 2
}

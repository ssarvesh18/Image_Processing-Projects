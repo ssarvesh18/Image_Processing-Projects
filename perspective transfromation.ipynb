{
 "cells": [
  {
   "cell_type": "code",
   "execution_count": 59,
   "metadata": {},
   "outputs": [],
   "source": [
    "import cv2\n",
    "import numpy as np"
   ]
  },
  {
   "cell_type": "code",
   "execution_count": 60,
   "metadata": {},
   "outputs": [],
   "source": [
    "cam=cv2.VideoCapture(0)"
   ]
  },
  {
   "cell_type": "code",
   "execution_count": 61,
   "metadata": {},
   "outputs": [],
   "source": [
    "while(cam.isOpened()==True):\n",
    "    ret,frame=cam.read()\n",
    "    t1=np.array([[155,120],[480,120],[20,475],[620,475]],dtype=np.float32)\n",
    "    t2=np.array([[0,0],[400,0],[0,600],[400,600]],dtype=np.float32)\n",
    "    f=cv2.getPerspectiveTransform(t1,t2)\n",
    "    r=cv2.warpPerspective(frame,f,(400,600))\n",
    "    cv2.imshow('webcam',r)\n",
    "    cv2.imshow('new',frame)\n",
    "    if cv2.waitKey(1)==27:\n",
    "        break\n",
    "cam.release()\n",
    "cv2.destroyAllWindows()"
   ]
  },
  {
   "cell_type": "code",
   "execution_count": null,
   "metadata": {},
   "outputs": [],
   "source": []
  }
 ],
 "metadata": {
  "kernelspec": {
   "display_name": "Python 3",
   "language": "python",
   "name": "python3"
  },
  "language_info": {
   "codemirror_mode": {
    "name": "ipython",
    "version": 3
   },
   "file_extension": ".py",
   "mimetype": "text/x-python",
   "name": "python",
   "nbconvert_exporter": "python",
   "pygments_lexer": "ipython3",
   "version": "3.6.4"
  }
 },
 "nbformat": 4,
 "nbformat_minor": 2
}

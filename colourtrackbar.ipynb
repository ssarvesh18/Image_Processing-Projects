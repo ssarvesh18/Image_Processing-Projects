{
 "cells": [
  {
   "cell_type": "code",
   "execution_count": 2,
   "metadata": {},
   "outputs": [],
   "source": [
    "import cv2\n",
    "import numpy as np\n",
    "from PIL import Image"
   ]
  },
  {
   "cell_type": "code",
   "execution_count": 3,
   "metadata": {},
   "outputs": [],
   "source": [
    "def nothing(x):\n",
    "    pass"
   ]
  },
  {
   "cell_type": "code",
   "execution_count": 6,
   "metadata": {},
   "outputs": [],
   "source": [
    "cam=cv2.VideoCapture(0)\n",
    "cv2.namedWindow('webcam')\n",
    "cv2.createTrackbar('B','webcam',0,255,nothing)\n",
    "cv2.createTrackbar('G','webcam',0,255,nothing)\n",
    "cv2.createTrackbar('R','webcam',0,255,nothing)\n",
    "while(cam.isOpened()):\n",
    "    r = cv2.getTrackbarPos('R','webcam')\n",
    "    g = cv2.getTrackbarPos('G','webcam')\n",
    "    b = cv2.getTrackbarPos('B','webcam')\n",
    "    u=np.array([b,g,r])\n",
    "    l=np.array([0,0,0])\n",
    "    ret,frame=cam.read()\n",
    "    m=cv2.inRange(frame,l,u)\n",
    "    im=cv2.bitwise_and(frame,frame,mask=m)\n",
    "    cv2.imshow('webcam',im)\n",
    "    if cv2.waitKey(1)==27:\n",
    "        break\n",
    "cv2.destroyWindow('webcam')\n",
    "cam.release()"
   ]
  },
  {
   "cell_type": "code",
   "execution_count": null,
   "metadata": {},
   "outputs": [],
   "source": []
  }
 ],
 "metadata": {
  "kernelspec": {
   "display_name": "Python 3",
   "language": "python",
   "name": "python3"
  },
  "language_info": {
   "codemirror_mode": {
    "name": "ipython",
    "version": 3
   },
   "file_extension": ".py",
   "mimetype": "text/x-python",
   "name": "python",
   "nbconvert_exporter": "python",
   "pygments_lexer": "ipython3",
   "version": "3.6.4"
  }
 },
 "nbformat": 4,
 "nbformat_minor": 2
}

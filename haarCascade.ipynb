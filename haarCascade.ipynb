{
 "cells": [
  {
   "cell_type": "code",
   "execution_count": 2,
   "metadata": {},
   "outputs": [],
   "source": [
    "import cv2\n",
    "import numpy as np\n",
    "from PIL import Image"
   ]
  },
  {
   "cell_type": "code",
   "execution_count": 4,
   "metadata": {},
   "outputs": [],
   "source": [
    "cam=cv2.VideoCapture(0)\n",
    "face=cv2.CascadeClassifier('F:\\\\ImageProcessing\\\\frontalFace10\\\\haarcascade_frontalface_default.xml')\n",
    "eye=cv2.CascadeClassifier('F:\\\\ImageProcessing\\\\frontalFace10\\\\eyes22x5.1.xml')\n",
    "nose=cv2.CascadeClassifier('F:\\\\ImageProcessing\\\\frontalFace10\\\\nose.xml')\n",
    "mouth=cv2.CascadeClassifier('F:\\\\ImageProcessing\\\\frontalFace10\\\\Mouth25x15.1.xml')                           \n",
    "while(cam.isOpened()):\n",
    "    ret,frame=cam.read()\n",
    "    i=cv2.cvtColor(frame,cv2.COLOR_BGR2GRAY)\n",
    "    faces=face.detectMultiScale(i,1.3,5)\n",
    "    for (x,y,w,h) in faces:\n",
    "        cv2.rectangle(i,(x,y),(x+w,y+h),(0,0,255),5)\n",
    "        eyes=eye.detectMultiScale(i[x:x+w,y:y+h])\n",
    "        for (x,y,w,h) in eyes:\n",
    "            cv2.rectangle(i,(x,y),(x+w,y+h),(0,0,255),5)\n",
    "    cv2.imshow('webcam',i)\n",
    "    if cv2.waitKey(1)==27:\n",
    "        break\n",
    "cv2.destroyAllWindows()\n",
    "cam.release()"
   ]
  },
  {
   "cell_type": "code",
   "execution_count": 12,
   "metadata": {},
   "outputs": [],
   "source": [
    "cam=cv2.VideoCapture(0)\n",
    "u=np.array([255,0,255])\n",
    "l=np.array([0,0,0])\n",
    "while(cam.isOpened()):\n",
    "    ret,frame=cam.read()\n",
    "    m=cv2.inRange(frame,l,u)\n",
    "    cv2.imshow('webcam',m)\n",
    "    if cv2.waitKey(1)==27:\n",
    "        break\n",
    "cv2.destroyAllWindows()\n",
    "cam.release()"
   ]
  },
  {
   "cell_type": "code",
   "execution_count": null,
   "metadata": {},
   "outputs": [],
   "source": []
  }
 ],
 "metadata": {
  "kernelspec": {
   "display_name": "Python 3",
   "language": "python",
   "name": "python3"
  },
  "language_info": {
   "codemirror_mode": {
    "name": "ipython",
    "version": 3
   },
   "file_extension": ".py",
   "mimetype": "text/x-python",
   "name": "python",
   "nbconvert_exporter": "python",
   "pygments_lexer": "ipython3",
   "version": "3.6.4"
  }
 },
 "nbformat": 4,
 "nbformat_minor": 2
}

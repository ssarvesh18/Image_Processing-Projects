{
 "cells": [
  {
   "cell_type": "code",
   "execution_count": 1,
   "metadata": {},
   "outputs": [],
   "source": [
    "import cv2\n",
    "import numpy as np"
   ]
  },
  {
   "cell_type": "code",
   "execution_count": 39,
   "metadata": {},
   "outputs": [],
   "source": [
    "early_1800=cv2.imread(\"F:\\\\ImageProcessing\\\\Noiseyimages\\\\early_1800.jpg\")\n",
    "balloon=cv2.imread(\"F:\\\\ImageProcessing\\\\Noiseyimages\\\\balloons_noisy.png\")"
   ]
  },
  {
   "cell_type": "code",
   "execution_count": 47,
   "metadata": {},
   "outputs": [],
   "source": [
    "# avg1=cv2.blur(balloon,(4,4)) #takes average of pixels\n",
    "# median1=cv2.medianBlur(balloon,5) #takes median among the pixels\n",
    "# gaussian1=cv2.GaussianBlur(balloon,(5,5),0) #takes weighted average of pixels.weights decrease as we move away from centre\n",
    "# bilateral1=cv2.bilateralFilter(balloon,5,75,75)\n",
    "avg2=cv2.blur(early_1800,(4,4)) #takes average of pixels\n",
    "median2=cv2.medianBlur(early_1800,5) #takes median among the pixels\n",
    "gaussian2=cv2.GaussianBlur(early_1800,(5,5),0) #takes weighted average of pixels.weights decrease as we move away from centre\n",
    "bilateral2=cv2.bilateralFilter(early_1800,5,75,75) #nonlinear filter that preserves the edges\n",
    "# cv2.imshow(\"image\",balloon)\n",
    "# cv2.imshow(\"average\",avg1) \n",
    "# cv2.imshow(\"median\",median1)\n",
    "# cv2.imshow(\"gaussian\",gaussian1)\n",
    "# cv2.imshow(\"bilateral\",bilateral1)\n",
    "cv2.imshow(\"image\",early_1800)\n",
    "cv2.imshow(\"average\",avg2) \n",
    "cv2.imshow(\"median\",median2)\n",
    "cv2.imshow(\"gaussian\",gaussian2)\n",
    "cv2.imshow(\"bilateral\",bilateral2)\n",
    "\n",
    "cv2.waitKey(0)\n",
    "cv2.destroyAllWindows()"
   ]
  }
 ],
 "metadata": {
  "kernelspec": {
   "display_name": "Python 3",
   "language": "python",
   "name": "python3"
  },
  "language_info": {
   "codemirror_mode": {
    "name": "ipython",
    "version": 3
   },
   "file_extension": ".py",
   "mimetype": "text/x-python",
   "name": "python",
   "nbconvert_exporter": "python",
   "pygments_lexer": "ipython3",
   "version": "3.6.4"
  }
 },
 "nbformat": 4,
 "nbformat_minor": 2
}

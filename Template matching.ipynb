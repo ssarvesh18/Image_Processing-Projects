{
 "cells": [
  {
   "cell_type": "code",
   "execution_count": 40,
   "metadata": {},
   "outputs": [],
   "source": [
    "import cv2\n",
    "import numpy as np"
   ]
  },
  {
   "cell_type": "code",
   "execution_count": 41,
   "metadata": {},
   "outputs": [],
   "source": [
    "cam=cv2.VideoCapture(0)\n",
    "i=cv2.imread(\"F:\\\\ImageProcessing\\\\sarvesh.jpg\",cv2.IMREAD_GRAYSCALE)\n",
    "while(cam.isOpened()):\n",
    "    ret,frame=cam.read()\n",
    "    grey=cv2.cvtColor(frame,cv2.COLOR_BGR2GRAY)\n",
    "    result=cv2.matchTemplate(grey,i,cv2.TM_CCOEFF_NORMED)\n",
    "    min_val,max_val,min_loc,max_loc = cv2.minMaxLoc(result)\n",
    "    h,w=np.shape(i)\n",
    "    cv2.rectangle(grey,max_loc,(max_loc[0]+w,max_loc[1]+h),(0,255,0),5)\n",
    "    cv2.imshow('webcam',grey)\n",
    "    if cv2.waitKey(1)==27:\n",
    "        break\n",
    "cv2.destroyAllWindows()\n",
    "cam.release()"
   ]
  },
  {
   "cell_type": "code",
   "execution_count": 55,
   "metadata": {},
   "outputs": [],
   "source": [
    "i=cv2.imread(\"F:\\\\ImageProcessing\\\\barts_face.jpg\",cv2.IMREAD_GRAYSCALE)\n",
    "grey=cv2.imread(\"F:\\\\ImageProcessing\\\\simpsons.jpg\",cv2.IMREAD_GRAYSCALE)\n",
    "result=cv2.matchTemplate(grey,i,cv2.TM_CCOEFF_NORMED)\n",
    "min_val,max_val,min_loc,max_loc=cv2.minMaxLoc(result)\n",
    "h,w=np.shape(i)\n",
    "cv2.rectangle(grey,max_loc,(max_loc[0]+w,max_loc[1]+h),(0,255,0),5)\n",
    "cv2.imshow('webcam',grey)\n",
    "cv2.waitKey(0)\n",
    "cv2.destroyAllWindows()"
   ]
  },
  {
   "cell_type": "code",
   "execution_count": 46,
   "metadata": {},
   "outputs": [],
   "source": [
    "result1=np.array(result[0])"
   ]
  },
  {
   "cell_type": "code",
   "execution_count": null,
   "metadata": {},
   "outputs": [],
   "source": [
    "# FOR MULTIPlE POINT DETECTION\n",
    "# res = cv.matchTemplate(img_gray,template,cv.TM_CCOEFF_NORMED)\n",
    "# threshold = 0.8\n",
    "# loc = np.where( res >= threshold)\n",
    "# for pt in zip(*loc[::-1]):\n",
    "#     cv.rectangle(img_rgb, pt, (pt[0] + w, pt[1] + h), (0,0,255), 2)\n"
   ]
  },
  {
   "cell_type": "code",
   "execution_count": null,
   "metadata": {},
   "outputs": [],
   "source": []
  },
  {
   "cell_type": "code",
   "execution_count": null,
   "metadata": {},
   "outputs": [],
   "source": []
  }
 ],
 "metadata": {
  "kernelspec": {
   "display_name": "Python 3",
   "language": "python",
   "name": "python3"
  },
  "language_info": {
   "codemirror_mode": {
    "name": "ipython",
    "version": 3
   },
   "file_extension": ".py",
   "mimetype": "text/x-python",
   "name": "python",
   "nbconvert_exporter": "python",
   "pygments_lexer": "ipython3",
   "version": "3.6.4"
  }
 },
 "nbformat": 4,
 "nbformat_minor": 2
}

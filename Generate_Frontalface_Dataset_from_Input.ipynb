{
 "cells": [
  {
   "cell_type": "code",
   "execution_count": null,
   "metadata": {},
   "outputs": [
    {
     "name": "stdout",
     "output_type": "stream",
     "text": [
      "enter your id1\n"
     ]
    }
   ],
   "source": [
    "import cv2\n",
    "import numpy\n",
    "\n",
    "cam = cv2.VideoCapture(0)\n",
    "detector=cv2.CascadeClassifier('F:\\\\ImageProcessing\\\\frontalFace10\\\\haarcascade_frontalface_default.xml')\n",
    "\n",
    "Id=input('enter your id')\n",
    "sampleNum=0\n",
    "\n",
    "while(True):\n",
    "    ret, img = cam.read()\n",
    "    gray = cv2.cvtColor(img, cv2.COLOR_BGR2GRAY)\n",
    "    faces = detector.detectMultiScale(gray, 1.3, 5)\n",
    "    for (x,y,w,h) in faces:\n",
    "        cv2.rectangle(img,(x,y),(x+w,y+h),(255,0,0),2)\n",
    "        \n",
    "        #incrementing sample number \n",
    "        sampleNum=sampleNum+1\n",
    "        #saving the captured face in the dataset folder\n",
    "        cv2.imwrite(\"F:\\\\ImageProcessing\\\\dataSet\\\\User.\"+Id +'.'+ str(sampleNum) + \".jpg\", gray[y:y+h,x:x+w])\n",
    "        \n",
    "        cv2.imshow('frame',img)\n",
    "    #wait for 100 miliseconds \n",
    "    if cv2.waitKey(100) & 0xFF == ord('q'):\n",
    "        break\n",
    "    # break if the sample number is morethan 20\n",
    "    elif sampleNum>20:\n",
    "        break\n",
    "cam.release()\n",
    "cv2.destroyAllWindows()"
   ]
  },
  {
   "cell_type": "code",
   "execution_count": null,
   "metadata": {},
   "outputs": [],
   "source": [
    "import cv2,os\n",
    "import numpy as np\n",
    "from PIL import Image\n",
    "\n",
    "recognizer = cv2.createLBPHFaceRecognizer()\n",
    "detector= cv2.CascadeClassifier(\"F:\\\\ImageProcessing\\\\frontalFace10\\\\haarcascade_frontalface_default.xml\");\n",
    "\n",
    "def getImagesAndLabels(path):\n",
    "    #get the path of all the files in the folder\n",
    "    imagePaths=[os.path.join(path,f) for f in os.listdir(path)] \n",
    "    #create empth face list\n",
    "    faceSamples=[]\n",
    "    #create empty ID list\n",
    "    Ids=[]\n",
    "    #now looping through all the image paths and loading the Ids and the images\n",
    "    for imagePath in imagePaths:\n",
    "        #loading the image and converting it to gray scale\n",
    "        pilImage=Image.open(imagePath).convert('L')\n",
    "        #Now we are converting the PIL image into numpy array\n",
    "        imageNp=np.array(pilImage,'uint8')\n",
    "        #getting the Id from the image\n",
    "        Id=int(os.path.split(imagePath)[-1].split(\".\")[1])\n",
    "        # extract the face from the training image sample\n",
    "        faces=detector.detectMultiScale(imageNp)\n",
    "        #If a face is there then append that in the list as well as Id of it\n",
    "        for (x,y,w,h) in faces:\n",
    "            faceSamples.append(imageNp[y:y+h,x:x+w])\n",
    "            Ids.append(Id)\n",
    "    return faceSamples,Ids\n",
    "\n",
    "\n",
    "faces,Ids = getImagesAndLabels('dataSet')\n",
    "recognizer.train(faces, np.array(Ids))\n",
    "recognizer.save('trainner/trainner.yml')"
   ]
  },
  {
   "cell_type": "code",
   "execution_count": null,
   "metadata": {},
   "outputs": [],
   "source": [
    "recognizer = cv2.createLBPHFaceRecognizer()\n",
    "recognizer.load('trainner/trainner.yml')\n",
    "cascadePath = \"haarcascade_frontalface_default.xml\"\n",
    "faceCascade = cv2.CascadeClassifier(cascadePath);\n",
    "\n",
    "\n",
    "cam = cv2.VideoCapture(0)\n",
    "font = cv2.cv.InitFont(cv2.cv.CV_FONT_HERSHEY_SIMPLEX, 1, 1, 0, 1, 1)\n",
    "while True:\n",
    "    ret, im =cam.read()\n",
    "    gray=cv2.cvtColor(im,cv2.COLOR_BGR2GRAY)\n",
    "    faces=faceCascade.detectMultiScale(gray, 1.2,5)\n",
    "    for(x,y,w,h) in faces:\n",
    "        cv2.rectangle(im,(x,y),(x+w,y+h),(225,0,0),2)\n",
    "        Id, conf = recognizer.predict(gray[y:y+h,x:x+w])\n",
    "        if(conf<50):\n",
    "            if(Id==1):\n",
    "                Id=\"Anirban\"\n",
    "            elif(Id==2):\n",
    "                Id=\"Sam\"\n",
    "        else:\n",
    "            Id=\"Unknown\"\n",
    "        cv2.cv.PutText(cv2.cv.fromarray(im),str(Id), (x,y+h),font, 255)\n",
    "    cv2.imshow('im',im) \n",
    "    if cv2.waitKey(10) &amp; 0xFF==ord('q'):\n",
    "        break\n",
    "cam.release()\n",
    "cv2.destroyAllWindows()"
   ]
  }
 ],
 "metadata": {
  "kernelspec": {
   "display_name": "Python 3",
   "language": "python",
   "name": "python3"
  },
  "language_info": {
   "codemirror_mode": {
    "name": "ipython",
    "version": 3
   },
   "file_extension": ".py",
   "mimetype": "text/x-python",
   "name": "python",
   "nbconvert_exporter": "python",
   "pygments_lexer": "ipython3",
   "version": "3.6.10"
  }
 },
 "nbformat": 4,
 "nbformat_minor": 2
}
